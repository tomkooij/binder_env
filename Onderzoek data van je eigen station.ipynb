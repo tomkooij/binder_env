{
 "cells": [
  {
   "cell_type": "markdown",
   "metadata": {},
   "source": [
    "# Onderzoek de data van je eigen station "
   ]
  },
  {
   "cell_type": "code",
   "execution_count": 1,
   "metadata": {},
   "outputs": [],
   "source": [
    "STATION = 15  # gvdveen"
   ]
  },
  {
   "cell_type": "code",
   "execution_count": 2,
   "metadata": {},
   "outputs": [],
   "source": [
    "import sapphire\n",
    "import matplotlib.pyplot as plt\n",
    "import numpy as np\n",
    "import datetime as dt\n",
    "%matplotlib inline"
   ]
  },
  {
   "cell_type": "code",
   "execution_count": 3,
   "metadata": {},
   "outputs": [
    {
     "name": "stderr",
     "output_type": "stream",
     "text": [
      "100%|###########################################################|Time:  0:00:00\n"
     ]
    }
   ],
   "source": [
    "data = sapphire.quick_download(STATION)"
   ]
  },
  {
   "cell_type": "markdown",
   "metadata": {},
   "source": [
    "Na enige tijd verschijnt hierboven een regel zoals:\n",
    "\"`100%|############################################################|Time:\n",
    "0:00:06`\"\n",
    "\n",
    "Soms is de download zo snel dat deze regel niet wordt afgedrukt.\n",
    "\n",
    "De\n",
    "variabele \"`data`\" bevat nu een set meetgegevens. Deze set is af te drukken."
   ]
  },
  {
   "cell_type": "code",
   "execution_count": 4,
   "metadata": {},
   "outputs": [],
   "source": [
    "# Download data van een andere dag\n",
    "# start = dt.datetime(2019, 3, 20)\n",
    "# end = dt.datetime(2019, 3, 21)\n",
    "# sapphire.download_data(data, '/s%d' % STATION, start, end)"
   ]
  },
  {
   "cell_type": "code",
   "execution_count": 5,
   "metadata": {},
   "outputs": [
    {
     "name": "stdout",
     "output_type": "stream",
     "text": [
      "data9.h5 (File) ''\n",
      "Last modif.: 'Tue Apr  2 14:22:20 2019'\n",
      "Object Tree: \n",
      "/ (RootGroup) ''\n",
      "/s15 (Group) ''\n",
      "/s15/events (Table(11521,)) ''\n",
      "\n"
     ]
    }
   ],
   "source": [
    "print(data)"
   ]
  },
  {
   "cell_type": "markdown",
   "metadata": {},
   "source": [
    "Het \"`data`\" bestand heeft een hierarchise opbouw. In \"`data`\" zit een\n",
    "RootGroup, deze is te benaderen met \"`data.root`\". Hierin zit weer een groep\n",
    "\"`s102`\", deze is te benaderen met \"`data.root.s102`\". Hierin zit een tabel\n",
    "\"`events`\".\n",
    "\n",
    "## Werken met een events tabel\n",
    "Voor het gemak maken we een variable\n",
    "`events` die naar de eventstabel van het station wijst:\n",
    "\n",
    "De tabel heeft een bepaalde plaats het HDF5 data bestand: `/s????/events` waarbij `????` staat voor het station nummer. Deze plaats heet een `node`:"
   ]
  },
  {
   "cell_type": "code",
   "execution_count": 6,
   "metadata": {},
   "outputs": [
    {
     "data": {
      "text/plain": [
       "'/s15/events'"
      ]
     },
     "execution_count": 6,
     "metadata": {},
     "output_type": "execute_result"
    }
   ],
   "source": [
    "node_naam = '/s%d/events' % STATION\n",
    "node_naam"
   ]
  },
  {
   "cell_type": "code",
   "execution_count": 7,
   "metadata": {},
   "outputs": [
    {
     "data": {
      "text/plain": [
       "/s15/events (Table(11521,)) ''\n",
       "  description := {\n",
       "  \"event_id\": UInt32Col(shape=(), dflt=0, pos=0),\n",
       "  \"timestamp\": Time32Col(shape=(), dflt=0, pos=1),\n",
       "  \"nanoseconds\": UInt32Col(shape=(), dflt=0, pos=2),\n",
       "  \"ext_timestamp\": UInt64Col(shape=(), dflt=0, pos=3),\n",
       "  \"pulseheights\": Int16Col(shape=(4,), dflt=0, pos=4),\n",
       "  \"integrals\": Int32Col(shape=(4,), dflt=0, pos=5),\n",
       "  \"n1\": Float32Col(shape=(), dflt=0.0, pos=6),\n",
       "  \"n2\": Float32Col(shape=(), dflt=0.0, pos=7),\n",
       "  \"n3\": Float32Col(shape=(), dflt=0.0, pos=8),\n",
       "  \"n4\": Float32Col(shape=(), dflt=0.0, pos=9),\n",
       "  \"t1\": Float32Col(shape=(), dflt=0.0, pos=10),\n",
       "  \"t2\": Float32Col(shape=(), dflt=0.0, pos=11),\n",
       "  \"t3\": Float32Col(shape=(), dflt=0.0, pos=12),\n",
       "  \"t4\": Float32Col(shape=(), dflt=0.0, pos=13),\n",
       "  \"t_trigger\": Float32Col(shape=(), dflt=0.0, pos=14)}\n",
       "  byteorder := 'little'\n",
       "  chunkshape := (819,)"
      ]
     },
     "execution_count": 7,
     "metadata": {},
     "output_type": "execute_result"
    }
   ],
   "source": [
    "event_tabel = data.get_node(node_naam)\n",
    "event_tabel"
   ]
  },
  {
   "cell_type": "markdown",
   "metadata": {},
   "source": [
    "Dit is een tabel tienduizenden regels. Elke regel is een event.\n",
    "\n",
    "De informatie van\n",
    "het eerste event is op te halen met:"
   ]
  },
  {
   "cell_type": "code",
   "execution_count": 8,
   "metadata": {},
   "outputs": [
    {
     "data": {
      "text/plain": [
       "(0, 1554076800, 476435616, 1554076800476435616, [500, 346,  -1,  -1], [6083, 4045,   -1,   -1],  3.13910007,  1.42200005, -1., -1.,  65.,  65., -1., -1.,  70.)"
      ]
     },
     "execution_count": 8,
     "metadata": {},
     "output_type": "execute_result"
    }
   ],
   "source": [
    "event_tabel[0]"
   ]
  },
  {
   "cell_type": "markdown",
   "metadata": {},
   "source": [
    "Het **tweede** event: (Let op, python telt vanaf 0 en niet vanaf 1)"
   ]
  },
  {
   "cell_type": "code",
   "execution_count": 9,
   "metadata": {},
   "outputs": [
    {
     "data": {
      "text/plain": [
       "(1, 1554076801, 586415971, 1554076801586415971, [126, 295,  -1,  -1], [1360, 3402,   -1,   -1],  0.70181,  1.19589996, -1., -1.,  62.5,  65., -1., -1.,  67.5)"
      ]
     },
     "execution_count": 9,
     "metadata": {},
     "output_type": "execute_result"
    }
   ],
   "source": [
    "event_tabel[1]"
   ]
  },
  {
   "cell_type": "markdown",
   "metadata": {},
   "source": [
    "De informatie in een event bestaat uit een lijst getallen. Deze getallen hebben\n",
    "de volgende betekenis:\n",
    "\n",
    "1. event_id: Het unieke nummer van het event in deze\n",
    "dataset.\n",
    "1. timestamp: De tijd in hele seconden (GPS) waarop de trigger van het\n",
    "event\n",
    "plaatsvond.\n",
    "1. nanoseconds: De tijd in nanoseconden waarop de trigger van\n",
    "het event\n",
    "plaatsvond.\n",
    "1. ext_timestamp: Dit getal is vrij groot, namelijk de\n",
    "twee vorige achter\n",
    "elkaar.\n",
    "1. pulseheights: Een array met pulshoogten, \"`-1`\"\n",
    "betekent dat er geen detector\n",
    "was.\n",
    "1. integrals: Een array met pulsoppervlakten,\n",
    "\"`-1`\" betekent ook hier dat er\n",
    "geen detector was.\n",
    "1. n1: Het aantal MIPS's\n",
    "(Minimal Ionising Particles) dat in detector 1 is\n",
    "gereconstrueerd.\n",
    "1. n2\n",
    "1. n3\n",
    "1. n4\n",
    "1. t1: De gereconstrueerde detectietijden vanaf het begin van het\n",
    "opgeslagen\n",
    "signaal voor detector 1.\n",
    "1. t2\n",
    "1. t3\n",
    "1. t4\n",
    "1. t_trigger: Het moment\n",
    "van de GPS-tijdstempel vanaf het begin van het\n",
    "opgeslagen signaal.\n",
    "\n",
    "In het\n",
    "werkblad [http://docs.hisparc.nl/infopakket/pdf/traces.pdf](http://docs.h\n",
    "isparc.nl/infopakket/pdf/traces.pdf) wordt de natuurkundige betekenis van deze\n",
    "getallen beschreven.  De afbeeldingen in dit werkblad zijn afkomstig uit het\n",
    "interactieve werkblad [http://data.hisparc.nl/media/jsparc/jsparc.html](http://d\n",
    "ata.hisparc.nl/media/jsparc/jsparc.html). Let op, computers tellen vanaf \"`0`\"\n",
    "en niet vanaf \"`1`\"\n",
    "\n",
    "\n",
    "\n",
    "### Werken met kolomnamen\n",
    "\n",
    "Een kolom zoals 'event_id',\n",
    "'timestamp' of 't1' kan opgevraagd worden door de\n",
    "index van de kolom (0, 1, 2,\n",
    "...) of door de kolomnaam. Door gebruik te maken\n",
    "van de kolomnaam wordt de code\n",
    "veel beter leesbaar:"
   ]
  },
  {
   "cell_type": "code",
   "execution_count": 10,
   "metadata": {},
   "outputs": [
    {
     "data": {
      "text/plain": [
       "1554076800"
      ]
     },
     "execution_count": 10,
     "metadata": {},
     "output_type": "execute_result"
    }
   ],
   "source": [
    "first_event = event_tabel[0]\n",
    "first_event['timestamp']"
   ]
  },
  {
   "cell_type": "markdown",
   "metadata": {},
   "source": [
    "Het aantal gereconstrueerde deeltjes in detector 1 (het zevende getal) bij het\n",
    "eerste event is dus te vinden met:"
   ]
  },
  {
   "cell_type": "code",
   "execution_count": 11,
   "metadata": {},
   "outputs": [
    {
     "data": {
      "text/plain": [
       "3.1391001"
      ]
     },
     "execution_count": 11,
     "metadata": {},
     "output_type": "execute_result"
    }
   ],
   "source": [
    "event_tabel[0][6]  # 7de kolom van 1ste rij"
   ]
  },
  {
   "cell_type": "markdown",
   "metadata": {},
   "source": [
    "en:"
   ]
  },
  {
   "cell_type": "code",
   "execution_count": 12,
   "metadata": {},
   "outputs": [
    {
     "data": {
      "text/plain": [
       "3.1391001"
      ]
     },
     "execution_count": 12,
     "metadata": {},
     "output_type": "execute_result"
    }
   ],
   "source": [
    "first_event = event_tabel[0]\n",
    "first_event['n1']"
   ]
  },
  {
   "cell_type": "markdown",
   "metadata": {},
   "source": [
    "De tweede code is weliswaar langer, maar veel beter leesbaar."
   ]
  },
  {
   "cell_type": "code",
   "execution_count": 13,
   "metadata": {},
   "outputs": [
    {
     "name": "stdout",
     "output_type": "stream",
     "text": [
      "3.1391\n",
      "3.1391\n"
     ]
    }
   ],
   "source": [
    "print(first_event['n1'])\n",
    "print(event_tabel[0][6])"
   ]
  },
  {
   "cell_type": "markdown",
   "metadata": {},
   "source": [
    "Een array met pulshoogten in ADC-waarden is in dit geval te vinden met:"
   ]
  },
  {
   "cell_type": "code",
   "execution_count": 14,
   "metadata": {},
   "outputs": [
    {
     "data": {
      "text/plain": [
       "array([500, 346,  -1,  -1], dtype=int16)"
      ]
     },
     "execution_count": 14,
     "metadata": {},
     "output_type": "execute_result"
    }
   ],
   "source": [
    "first_event['pulseheights']"
   ]
  },
  {
   "cell_type": "markdown",
   "metadata": {},
   "source": [
    "Merk op dat de pulshoogtes van detector 3 en 4 de waarde '-1' hebben. De waarde\n",
    "'-1' betekent dat de pulsehoogte niet bepaald kon worden; Station 102 heeft\n",
    "slechts twee detectoren.\n",
    "\n",
    "De eerste pulshoogte is te vinden met:"
   ]
  },
  {
   "cell_type": "code",
   "execution_count": 15,
   "metadata": {},
   "outputs": [
    {
     "name": "stdout",
     "output_type": "stream",
     "text": [
      "pulshoogte detector 1: 500 ADC (eerste event)\n"
     ]
    }
   ],
   "source": [
    "print(\"pulshoogte detector 1: %d ADC (eerste event)\" % first_event['pulseheights'][0])"
   ]
  },
  {
   "cell_type": "markdown",
   "metadata": {},
   "source": [
    "## Timestamps\n",
    "Vaak is het eenvoudiger om een hele *kolom* bijvoorbeeld `timestamp` in\n",
    "een keer te bekijken.\n",
    "\n",
    "Eerst lezen we de hele tabel in het geheugen. Het object `events` is de gehele tabel:"
   ]
  },
  {
   "cell_type": "code",
   "execution_count": 16,
   "metadata": {},
   "outputs": [],
   "source": [
    "events = event_tabel.read()"
   ]
  },
  {
   "cell_type": "markdown",
   "metadata": {},
   "source": [
    "De variabele `ts` wijst naar de kolom `timestamp`\n",
    "en we bekijken\n",
    "de eerste 30 regels (events):"
   ]
  },
  {
   "cell_type": "code",
   "execution_count": 17,
   "metadata": {},
   "outputs": [
    {
     "data": {
      "text/plain": [
       "array([1554076800, 1554076801, 1554076805, 1554076810, 1554076813,\n",
       "       1554076819, 1554076820, 1554076820, 1554076821, 1554076826,\n",
       "       1554076831, 1554076831, 1554076832, 1554076832, 1554076832,\n",
       "       1554076834, 1554076844, 1554076845, 1554076847, 1554076847,\n",
       "       1554076849, 1554076858, 1554076859, 1554076865, 1554076866,\n",
       "       1554076867, 1554076867, 1554076873, 1554076885, 1554076891], dtype=int32)"
      ]
     },
     "execution_count": 17,
     "metadata": {},
     "output_type": "execute_result"
    }
   ],
   "source": [
    "ts = events['timestamp']\n",
    "ts[:30]"
   ]
  },
  {
   "cell_type": "code",
   "execution_count": 18,
   "metadata": {},
   "outputs": [
    {
     "data": {
      "text/plain": [
       "array([476435616, 586415971, 506642029, 178854403,  20738909, 344622890,\n",
       "       494751937, 758892894, 734640328,  19998254, 121542592, 951893926,\n",
       "       195791607, 793869533, 970626183, 999712064,  55689570, 211862397,\n",
       "       277855239, 822414712, 892509712,  26203300, 746237039, 867268576,\n",
       "       782428387, 375755296, 931431919, 174892773, 763649464,  75032702], dtype=uint32)"
      ]
     },
     "execution_count": 18,
     "metadata": {},
     "output_type": "execute_result"
    }
   ],
   "source": [
    "ns = events['nanoseconds']\n",
    "ns[:30]"
   ]
  },
  {
   "cell_type": "code",
   "execution_count": 19,
   "metadata": {},
   "outputs": [
    {
     "data": {
      "text/plain": [
       "<matplotlib.text.Text at 0x7f5e2d22f320>"
      ]
     },
     "execution_count": 19,
     "metadata": {},
     "output_type": "execute_result"
    },
    {
     "data": {
      "image/png": "[encoded data removed]",
      "text/plain": [
       "<matplotlib.figure.Figure at 0x7f5e2d6cb668>"
      ]
     },
     "metadata": {},
     "output_type": "display_data"
    }
   ],
   "source": [
    "plt.figure(figsize=(10,4))\n",
    "plt.hist(ns, histtype='step')\n",
    "plt.ylabel('aantal')\n",
    "plt.xlabel('nanoseconds deel van de timestamp')\n",
    "plt.title('ESD Events van een enkele dag van station %d' % STATION)"
   ]
  },
  {
   "cell_type": "code",
   "execution_count": 20,
   "metadata": {},
   "outputs": [
    {
     "data": {
      "text/plain": [
       "<matplotlib.text.Text at 0x7f5e2d108048>"
      ]
     },
     "execution_count": 20,
     "metadata": {},
     "output_type": "execute_result"
    },
    {
     "data": {
      "image/png": "[encoded data removed]",
      "text/plain": [
       "<matplotlib.figure.Figure at 0x7f5e2d6cb518>"
      ]
     },
     "metadata": {},
     "output_type": "display_data"
    }
   ],
   "source": [
    "plt.figure(figsize=(10,4))\n",
    "plt.hist(ts, bins=24, histtype='step')\n",
    "plt.ylabel('aantal')\n",
    "plt.xlabel('timestamp [s]')\n",
    "plt.title('ESD Events van een enkele dag van station %d' % STATION)"
   ]
  },
  {
   "cell_type": "code",
   "execution_count": 21,
   "metadata": {},
   "outputs": [
    {
     "data": {
      "text/plain": [
       "1554076800"
      ]
     },
     "execution_count": 21,
     "metadata": {},
     "output_type": "execute_result"
    }
   ],
   "source": [
    "eerste_ts = ts[0]\n",
    "eerste_ts"
   ]
  },
  {
   "cell_type": "code",
   "execution_count": 22,
   "metadata": {},
   "outputs": [],
   "source": [
    "# linker en rechter grenzen van bins van 1 uur (3600 s) breed vanaf de eerste timestamp (1 dag)\n",
    "bins = [eerste_ts + 3600 * h for h in range(25)]"
   ]
  },
  {
   "cell_type": "code",
   "execution_count": 23,
   "metadata": {
    "scrolled": true
   },
   "outputs": [
    {
     "data": {
      "text/plain": [
       "<matplotlib.text.Text at 0x7f5e2d0a2128>"
      ]
     },
     "execution_count": 23,
     "metadata": {},
     "output_type": "execute_result"
    },
    {
     "data": {
      "image/png": "[encoded data removed]",
      "text/plain": [
       "<matplotlib.figure.Figure at 0x7f5e2d173da0>"
      ]
     },
     "metadata": {},
     "output_type": "display_data"
    }
   ],
   "source": [
    "plt.figure(figsize=(10,4))\n",
    "plt.hist(ts, bins=bins, histtype='step')\n",
    "plt.ylabel('aantal')\n",
    "plt.xlabel('tijd vanaf middernacht [h]')\n",
    "plt.xticks(bins, range(25))\n",
    "plt.title('ESD Events van een enkele dag van station %d' % STATION)"
   ]
  },
  {
   "cell_type": "markdown",
   "metadata": {},
   "source": [
    "# MIPs"
   ]
  },
  {
   "cell_type": "code",
   "execution_count": 24,
   "metadata": {},
   "outputs": [
    {
     "data": {
      "text/plain": [
       "<matplotlib.text.Text at 0x7f5e0f9182b0>"
      ]
     },
     "execution_count": 24,
     "metadata": {},
     "output_type": "execute_result"
    },
    {
     "data": {
      "image/png": "[encoded data removed]",
      "text/plain": [
       "<matplotlib.figure.Figure at 0x7f5e2d1b5a58>"
      ]
     },
     "metadata": {},
     "output_type": "display_data"
    }
   ],
   "source": [
    "n1 = event_tabel.col('n1')\n",
    "plt.figure(figsize=(10,4))\n",
    "plt.hist(n1, bins=np.arange(0.3, 5., .1), histtype='step')\n",
    "plt.title('Station %d: Number of particles in detector 1' % STATION)\n",
    "plt.xlabel('number of particles (MIP)')\n",
    "plt.ylabel('counts')"
   ]
  },
  {
   "cell_type": "markdown",
   "metadata": {},
   "source": [
    "## Pulshoogte\n",
    "\n",
    "Maak een histogram van de pulshoogtes van detector 1 en 2 van het station.\n",
    "\n",
    "Een voorbeeld is hier te zien: http://data.hisparc.nl/show/stations/15"
   ]
  },
  {
   "cell_type": "code",
   "execution_count": 25,
   "metadata": {},
   "outputs": [],
   "source": [
    "ph = event_tabel.col('pulseheights')\n",
    "ph1 = ph[:, 0]\n",
    "ph2 = ph[:, 1]"
   ]
  },
  {
   "cell_type": "markdown",
   "metadata": {},
   "source": [
    "'pulseheights' is een *matrix*:\n",
    "- `[:, 0]` is de gehele eerste rij, dwz de\n",
    "pulshoogtes per event van detector 0\n",
    "- `[:, 1]` is de gehele tweede rij, dwz de\n",
    "pulshoogtes per event van detector 1"
   ]
  },
  {
   "cell_type": "code",
   "execution_count": 26,
   "metadata": {},
   "outputs": [
    {
     "data": {
      "text/plain": [
       "(10, 10000.0)"
      ]
     },
     "execution_count": 26,
     "metadata": {},
     "output_type": "execute_result"
    },
    {
     "data": {
      "image/png": "[encoded data removed]",
      "text/plain": [
       "<matplotlib.figure.Figure at 0x7f5e0f92e278>"
      ]
     },
     "metadata": {},
     "output_type": "display_data"
    }
   ],
   "source": [
    "plt.figure(figsize=(10,4))\n",
    "plt.hist(ph1, bins=np.arange(0, 2000., 20.), histtype='step', log=True)\n",
    "plt.hist(ph2, bins=np.arange(0, 2000., 20.), histtype='step', log=True)\n",
    "plt.title('Station %d: Pulseheights' % STATION)\n",
    "plt.xlabel('Pulseheight (ADC)')\n",
    "plt.ylabel('counts')\n",
    "plt.legend(['detector 1', 'detector 2' ])\n",
    "plt.ylim(10, 1e4)"
   ]
  },
  {
   "cell_type": "code",
   "execution_count": null,
   "metadata": {},
   "outputs": [],
   "source": []
  }
 ],
 "metadata": {
  "kernelspec": {
   "display_name": "Python 3",
   "language": "python",
   "name": "python3"
  },
  "language_info": {
   "codemirror_mode": {
    "name": "ipython",
    "version": 3
   },
   "file_extension": ".py",
   "mimetype": "text/x-python",
   "name": "python",
   "nbconvert_exporter": "python",
   "pygments_lexer": "ipython3",
   "version": "3.6.3"
  }
 },
 "nbformat": 4,
 "nbformat_minor": 2
}
